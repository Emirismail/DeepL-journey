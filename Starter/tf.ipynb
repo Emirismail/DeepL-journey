{
  "nbformat": 4,
  "nbformat_minor": 0,
  "metadata": {
    "colab": {
      "name": "tf.ipynb",
      "provenance": [],
      "collapsed_sections": [],
      "toc_visible": true,
      "authorship_tag": "ABX9TyMLbqZ7dtvjQ5imHolh8TmX",
      "include_colab_link": true
    },
    "kernelspec": {
      "name": "python3",
      "display_name": "Python 3"
    }
  },
  "cells": [
    {
      "cell_type": "markdown",
      "metadata": {
        "id": "view-in-github",
        "colab_type": "text"
      },
      "source": [
        "<a href=\"https://colab.research.google.com/github/Emirismail/DeepL-journey/blob/master/Starter/tf.ipynb\" target=\"_parent\"><img src=\"https://colab.research.google.com/assets/colab-badge.svg\" alt=\"Open In Colab\"/></a>"
      ]
    },
    {
      "cell_type": "code",
      "metadata": {
        "id": "ArxfA7i25v9i",
        "colab_type": "code",
        "colab": {}
      },
      "source": [
        "# TensorBoard for google colab\n",
        "! wget https://raw.githubusercontent.com/hse-aml/intro-to-dl/master/setup_google_colab.py -O setup_google_colab.py\n",
        "import setup_google_colab\n",
        "\n",
        "# run tensorboard in background\n",
        "import os\n",
        "os.system(\"tensorboard --logdir=./logs --host 0.0.0.0 --port 6006 &\")\n",
        "\n",
        "# expose port and show the link\n",
        "setup_google_colab.expose_port_on_colab(6006)"
      ],
      "execution_count": 0,
      "outputs": []
    },
    {
      "cell_type": "markdown",
      "metadata": {
        "id": "fRidmrI5uOiW",
        "colab_type": "text"
      },
      "source": [
        "## Warm UP"
      ]
    },
    {
      "cell_type": "markdown",
      "metadata": {
        "id": "OLwOo8cJxFrQ",
        "colab_type": "text"
      },
      "source": [
        "### What is TF?"
      ]
    },
    {
      "cell_type": "markdown",
      "metadata": {
        "id": "FihIBHAGwH2O",
        "colab_type": "text"
      },
      "source": [
        "TensorFlow is a deep learning framework\n",
        "TF is essentially 2 things:\n",
        "\n",
        "\n",
        "1.   A tool to describe computational graphs: \n",
        "      *   Graph object --> Network of nodes \n",
        "2.   A runtime for execution of these graphs:\n",
        "      *   CPU, GPU, TPU\n",
        "      *   One mode or distributed mode\n",
        "\n",
        "\n",
        "\n",
        "\n",
        "\n"
      ]
    },
    {
      "cell_type": "markdown",
      "metadata": {
        "id": "jrr0RVoJxH-_",
        "colab_type": "text"
      },
      "source": [
        "### Inputs"
      ]
    },
    {
      "cell_type": "markdown",
      "metadata": {
        "id": "VbwAyLfwxLEX",
        "colab_type": "text"
      },
      "source": [
        "\n",
        "\n",
        "*   Placeholder:\n",
        "    * Placeholder for a tensor that we dont have it right now\n",
        "    * Features (size & type) \n",
        "\n"
      ]
    },
    {
      "cell_type": "code",
      "metadata": {
        "id": "2lfD5YZgyPIO",
        "colab_type": "code",
        "colab": {}
      },
      "source": [
        "features= tf.placeholder(tf.float32, shape= (None,D))\n",
        "target= tf.placeholder(tf.float32, shape= (None,1))"
      ],
      "execution_count": 0,
      "outputs": []
    },
    {
      "cell_type": "markdown",
      "metadata": {
        "id": "gHK7yYN9yM2a",
        "colab_type": "text"
      },
      "source": [
        "*   Variable:\n",
        "    * Tensor with some value\n",
        "    * Weights matrix"
      ]
    },
    {
      "cell_type": "code",
      "metadata": {
        "id": "VozCgTaNyF75",
        "colab_type": "code",
        "colab": {}
      },
      "source": [
        "x= tf.get_variable(\"x\", shape= (), dtype=tf.float32, trainable= True)"
      ],
      "execution_count": 0,
      "outputs": []
    },
    {
      "cell_type": "markdown",
      "metadata": {
        "id": "5kH3zXOayI2R",
        "colab_type": "text"
      },
      "source": [
        "*   Constant:\n",
        "    * This is a tensor with a value."
      ]
    },
    {
      "cell_type": "markdown",
      "metadata": {
        "id": "k9PL7Wr-yWq5",
        "colab_type": "text"
      },
      "source": [
        "### Computational Graph"
      ]
    },
    {
      "cell_type": "markdown",
      "metadata": {
        "id": "ry7TP0CMyZtm",
        "colab_type": "text"
      },
      "source": [
        "\n",
        "\n",
        "*   After importing, tf creates a default graph\n",
        "*   We can get it with:\n",
        "\n"
      ]
    },
    {
      "cell_type": "code",
      "metadata": {
        "id": "cGUT_fAKypQV",
        "colab_type": "code",
        "colab": {}
      },
      "source": [
        "tf.get_default_graph()"
      ],
      "execution_count": 0,
      "outputs": []
    },
    {
      "cell_type": "markdown",
      "metadata": {
        "id": "NWDe4c5xyte4",
        "colab_type": "text"
      },
      "source": [
        "*   We can create our own graph:\n",
        "\n"
      ]
    },
    {
      "cell_type": "code",
      "metadata": {
        "id": "QxtuLz7Lyyv5",
        "colab_type": "code",
        "colab": {}
      },
      "source": [
        "g= tf.Graph()\n",
        "with g.as_default():\n",
        "  pass"
      ],
      "execution_count": 0,
      "outputs": []
    },
    {
      "cell_type": "markdown",
      "metadata": {
        "id": "Y3MSn_-oy8A2",
        "colab_type": "text"
      },
      "source": [
        "*   We can clear the default with:\n",
        "\n"
      ]
    },
    {
      "cell_type": "code",
      "metadata": {
        "id": "F9QmBtqqzCG0",
        "colab_type": "code",
        "colab": {}
      },
      "source": [
        "tf.reset_default_graph()"
      ],
      "execution_count": 0,
      "outputs": []
    },
    {
      "cell_type": "markdown",
      "metadata": {
        "id": "ffiVh3UszKW4",
        "colab_type": "text"
      },
      "source": [
        "### Operations & Tensors"
      ]
    },
    {
      "cell_type": "markdown",
      "metadata": {
        "id": "T2W1OJlYzN1c",
        "colab_type": "text"
      },
      "source": [
        "*   Every node in our graph is an operation\n",
        "*   We can list nodes with:\n",
        "\n"
      ]
    },
    {
      "cell_type": "code",
      "metadata": {
        "id": "4bYDYLOPzYST",
        "colab_type": "code",
        "colab": {}
      },
      "source": [
        "tf.get_default_graph().get_operations()"
      ],
      "execution_count": 0,
      "outputs": []
    },
    {
      "cell_type": "markdown",
      "metadata": {
        "id": "gFOUNApMzgE3",
        "colab_type": "text"
      },
      "source": [
        "*  Get output tensors: \n",
        "\n"
      ]
    },
    {
      "cell_type": "code",
      "metadata": {
        "id": "X6dKpHB7zsYT",
        "colab_type": "code",
        "colab": {}
      },
      "source": [
        "tf.get_default_graph().get_operations()[0].outputs "
      ],
      "execution_count": 0,
      "outputs": []
    },
    {
      "cell_type": "markdown",
      "metadata": {
        "id": "Ua_B78s2z15a",
        "colab_type": "text"
      },
      "source": [
        "### Running Graph"
      ]
    },
    {
      "cell_type": "markdown",
      "metadata": {
        "id": "xfG8kxczz7lE",
        "colab_type": "text"
      },
      "source": [
        "We need an other object\n",
        "*   A tf.session object\n",
        "*   Create a session :\n",
        "\n"
      ]
    },
    {
      "cell_type": "code",
      "metadata": {
        "id": "NzuaXxH80P5C",
        "colab_type": "code",
        "colab": {}
      },
      "source": [
        "s= tf.InteractiveSession()"
      ],
      "execution_count": 0,
      "outputs": []
    },
    {
      "cell_type": "markdown",
      "metadata": {
        "id": "mLxkDbjA0VQe",
        "colab_type": "text"
      },
      "source": [
        "*   Define the graph :\n",
        "\n"
      ]
    },
    {
      "cell_type": "code",
      "metadata": {
        "id": "Cb28zQbO0Z0L",
        "colab_type": "code",
        "colab": {}
      },
      "source": [
        "x= tf.constant(2.0)\n",
        "y= tf.constant(5.0)\n",
        "w= x*y"
      ],
      "execution_count": 0,
      "outputs": []
    },
    {
      "cell_type": "markdown",
      "metadata": {
        "id": "x-ljmPt00pHr",
        "colab_type": "text"
      },
      "source": [
        "\n",
        "\n",
        "*   Run the graph :\n"
      ]
    },
    {
      "cell_type": "code",
      "metadata": {
        "id": "mX0DS6rOz6h_",
        "colab_type": "code",
        "colab": {}
      },
      "source": [
        "print(w)\n",
        "print(s.run(w)) # The result of computation"
      ],
      "execution_count": 0,
      "outputs": []
    },
    {
      "cell_type": "markdown",
      "metadata": {
        "id": "XWCRlE2U07mw",
        "colab_type": "text"
      },
      "source": [
        "### Why we need a session object?\n",
        "*   We will define our graph in Python, but these operations will not be executed in Python (Very slow)\n",
        "*   Operations are written in C++ to run on CPU, GPU, TPU\n",
        "*   Session object will own necessary resources to execute our graph\n",
        "*   It is important to release these resources with:\n",
        "\n"
      ]
    },
    {
      "cell_type": "code",
      "metadata": {
        "id": "wtnhOct62KYt",
        "colab_type": "code",
        "colab": {}
      },
      "source": [
        "tf.Session.close()"
      ],
      "execution_count": 0,
      "outputs": []
    },
    {
      "cell_type": "markdown",
      "metadata": {
        "id": "tOuAxQNd2RZ2",
        "colab_type": "text"
      },
      "source": [
        "## Simplest Trial"
      ]
    },
    {
      "cell_type": "code",
      "metadata": {
        "id": "ZBuE7DcdwakJ",
        "colab_type": "code",
        "outputId": "4463108b-7d5b-41ea-b73f-feefbf4e7d20",
        "colab": {
          "base_uri": "https://localhost:8080/",
          "height": 35
        }
      },
      "source": [
        "%tensorflow_version 1.x"
      ],
      "execution_count": 1,
      "outputs": [
        {
          "output_type": "stream",
          "text": [
            "TensorFlow 1.x selected.\n"
          ],
          "name": "stdout"
        }
      ]
    },
    {
      "cell_type": "code",
      "metadata": {
        "id": "e8SIFzH8vHj4",
        "colab_type": "code",
        "outputId": "71d73f3b-d9f7-4abe-f706-4e47e75d9ab8",
        "colab": {
          "base_uri": "https://localhost:8080/",
          "height": 35
        }
      },
      "source": [
        "import numpy as np\n",
        "import tensorflow as tf\n",
        "print(tf.__version__)"
      ],
      "execution_count": 2,
      "outputs": [
        {
          "output_type": "stream",
          "text": [
            "1.15.2\n"
          ],
          "name": "stdout"
        }
      ]
    },
    {
      "cell_type": "markdown",
      "metadata": {
        "id": "bRpYrOuuvSow",
        "colab_type": "text"
      },
      "source": [
        "\n",
        "\n",
        "*   We will optimize the function f= x**2 with respect to x\n",
        "\n"
      ]
    },
    {
      "cell_type": "code",
      "metadata": {
        "id": "OwTb78OxvPap",
        "colab_type": "code",
        "colab": {
          "base_uri": "https://localhost:8080/",
          "height": 109
        },
        "outputId": "e0d4449c-eca5-49f4-a538-0151747b0076"
      },
      "source": [
        "tf.reset_default_graph()\n",
        "x= tf.get_variable(\"x\", shape= (), dtype=tf.float32, trainable= True)\n",
        "#y= tf.get_variable(\"y\", shape= (), dtype=tf.float32, trainable= True)\n",
        "f= x**2\n",
        "f= tf.Print(f, [x, f], \"x, f:\")"
      ],
      "execution_count": 24,
      "outputs": [
        {
          "output_type": "stream",
          "text": [
            "WARNING:tensorflow:From <ipython-input-24-4c36eb4079d4>:5: Print (from tensorflow.python.ops.logging_ops) is deprecated and will be removed after 2018-08-20.\n",
            "Instructions for updating:\n",
            "Use tf.print instead of tf.Print. Note that tf.print returns a no-output operator that directly prints the output. Outside of defuns or eager mode, this operator will not be executed unless it is directly specified in session.run or used as a control dependency for other operators. This is only a concern in graph mode. Below is an example of how to ensure tf.print executes in graph mode:\n",
            "\n"
          ],
          "name": "stdout"
        }
      ]
    },
    {
      "cell_type": "code",
      "metadata": {
        "id": "ZtwYtWwcyKlb",
        "colab_type": "code",
        "outputId": "02a54d9b-6caa-4504-ddcc-4f67188065c2",
        "colab": {
          "base_uri": "https://localhost:8080/",
          "height": 35
        }
      },
      "source": [
        "tf.trainable_variables()"
      ],
      "execution_count": 25,
      "outputs": [
        {
          "output_type": "execute_result",
          "data": {
            "text/plain": [
              "[<tf.Variable 'x:0' shape=() dtype=float32_ref>]"
            ]
          },
          "metadata": {
            "tags": []
          },
          "execution_count": 25
        }
      ]
    },
    {
      "cell_type": "code",
      "metadata": {
        "id": "mNA5_9jxvwes",
        "colab_type": "code",
        "colab": {}
      },
      "source": [
        "optimizer= tf.train.GradientDescentOptimizer(0.1)\n",
        "step= optimizer.minimize(f, var_list= [x])"
      ],
      "execution_count": 0,
      "outputs": []
    },
    {
      "cell_type": "code",
      "metadata": {
        "id": "knslKL3n4c72",
        "colab_type": "code",
        "colab": {}
      },
      "source": [
        "tf.summary.scalar('curr_x', x)\n",
        "tf.summary.scalar('curr_f', f)\n",
        "summaries= tf.summary.merge_all()"
      ],
      "execution_count": 0,
      "outputs": []
    },
    {
      "cell_type": "code",
      "metadata": {
        "id": "f_TqK2p8xJCL",
        "colab_type": "code",
        "outputId": "30764c0f-d7f5-42b9-8ede-7a29b61c83c5",
        "colab": {
          "base_uri": "https://localhost:8080/",
          "height": 73
        }
      },
      "source": [
        "s= tf.InteractiveSession()\n",
        "summary_writer= tf.summary.FileWriter(\"logs/1\", s.graph)\n",
        "s.run(tf.global_variables_initializer())"
      ],
      "execution_count": 28,
      "outputs": [
        {
          "output_type": "stream",
          "text": [
            "/tensorflow-1.15.2/python3.6/tensorflow_core/python/client/session.py:1750: UserWarning: An interactive session is already active. This can cause out-of-memory errors in some cases. You must explicitly call `InteractiveSession.close()` to release resources held by the other session(s).\n",
            "  warnings.warn('An interactive session is already active. This can '\n"
          ],
          "name": "stderr"
        }
      ]
    },
    {
      "cell_type": "code",
      "metadata": {
        "id": "2rEjbpeVywkd",
        "colab_type": "code",
        "outputId": "424efccd-2029-4c46-a72c-15e5d58b84e4",
        "colab": {
          "base_uri": "https://localhost:8080/",
          "height": 197
        }
      },
      "source": [
        "for i in range(10):\n",
        "  _, curr_x, curr_f= s.run([step, x, f])\n",
        "  print(curr_x, curr_f)"
      ],
      "execution_count": 0,
      "outputs": [
        {
          "output_type": "stream",
          "text": [
            "0.32939425 0.16953214\n",
            "0.2635154 0.10850057\n",
            "0.21081233 0.06944037\n",
            "0.16864987 0.044441838\n",
            "0.1349199 0.028442778\n",
            "0.10793592 0.018203378\n",
            "0.086348735 0.011650163\n",
            "0.06907899 0.007456104\n",
            "0.05526319 0.004771907\n",
            "0.044210553 0.0030540202\n"
          ],
          "name": "stdout"
        }
      ]
    },
    {
      "cell_type": "code",
      "metadata": {
        "id": "0pp_6HyhzBiY",
        "colab_type": "code",
        "colab": {}
      },
      "source": [
        "for i in range(10):\n",
        "  s.run([step,f])"
      ],
      "execution_count": 0,
      "outputs": []
    },
    {
      "cell_type": "code",
      "metadata": {
        "id": "w9RTHKz10X8C",
        "colab_type": "code",
        "colab": {}
      },
      "source": [
        "for i in range(10):\n",
        "  _, curr_summaries= s.run([step, summaries])\n",
        "  summary_writer.add_summary(curr_summaries, i)\n",
        "  summary_writer.flush()"
      ],
      "execution_count": 0,
      "outputs": []
    },
    {
      "cell_type": "code",
      "metadata": {
        "id": "uBkLWI8L5ASD",
        "colab_type": "code",
        "colab": {}
      },
      "source": [
        "%load_ext tensorboard\n",
        "%tensorboard --logdir logs"
      ],
      "execution_count": 0,
      "outputs": []
    },
    {
      "cell_type": "markdown",
      "metadata": {
        "id": "ID7MCdFTm9HW",
        "colab_type": "text"
      },
      "source": [
        "## Linear Regression"
      ]
    },
    {
      "cell_type": "code",
      "metadata": {
        "id": "gavBKqBz5KFt",
        "colab_type": "code",
        "colab": {}
      },
      "source": [
        "N= 1000\n",
        "D= 3\n",
        "x= np.random.random((N,D))\n",
        "w= np.random.random((D,1))\n",
        "y= x@w + np.random.randn(N,1)*0.2"
      ],
      "execution_count": 0,
      "outputs": []
    },
    {
      "cell_type": "code",
      "metadata": {
        "id": "2Lc83ugbniBe",
        "colab_type": "code",
        "colab": {}
      },
      "source": [
        "tf.reset_default_graph()\n",
        "features= tf.placeholder(tf.float32, shape= (None,D))\n",
        "target= tf.placeholder(tf.float32, shape= (None,1))"
      ],
      "execution_count": 0,
      "outputs": []
    },
    {
      "cell_type": "code",
      "metadata": {
        "id": "xCJf5TOEnnV-",
        "colab_type": "code",
        "colab": {}
      },
      "source": [
        "weights= tf.get_variable(\"w\", shape= (D,1), dtype=tf.float32, trainable= True)\n",
        "predictions= features@weights"
      ],
      "execution_count": 0,
      "outputs": []
    },
    {
      "cell_type": "code",
      "metadata": {
        "id": "KImdz0S5oMgI",
        "colab_type": "code",
        "colab": {}
      },
      "source": [
        "loss= tf.reduce_mean((target-predictions)**2)"
      ],
      "execution_count": 0,
      "outputs": []
    },
    {
      "cell_type": "code",
      "metadata": {
        "id": "Qj-LvRyboT-6",
        "colab_type": "code",
        "colab": {}
      },
      "source": [
        "optimizer= tf.train.GradientDescentOptimizer(0.1)\n",
        "step= optimizer.minimize(loss)"
      ],
      "execution_count": 0,
      "outputs": []
    },
    {
      "cell_type": "code",
      "metadata": {
        "id": "M1xfvA-PocKP",
        "colab_type": "code",
        "colab": {
          "base_uri": "https://localhost:8080/",
          "height": 73
        },
        "outputId": "fc482ea4-9ef8-42da-9252-7bc133bd1695"
      },
      "source": [
        "s= tf.InteractiveSession()\n",
        "# Model checkpoints\n",
        "\n",
        "saver= tf.train.Saver(tf.trainable_variables())\n",
        "s.run(tf.global_variables_initializer())"
      ],
      "execution_count": 34,
      "outputs": [
        {
          "output_type": "stream",
          "text": [
            "/tensorflow-1.15.2/python3.6/tensorflow_core/python/client/session.py:1750: UserWarning: An interactive session is already active. This can cause out-of-memory errors in some cases. You must explicitly call `InteractiveSession.close()` to release resources held by the other session(s).\n",
            "  warnings.warn('An interactive session is already active. This can '\n"
          ],
          "name": "stderr"
        }
      ]
    },
    {
      "cell_type": "code",
      "metadata": {
        "id": "Mr6E76U4otEd",
        "colab_type": "code",
        "colab": {
          "base_uri": "https://localhost:8080/",
          "height": 199
        },
        "outputId": "64c7b816-a40e-4f1c-f54b-bdacf59e3800"
      },
      "source": [
        "for i in range(300):\n",
        "  _, curr_loss, curr_weights= s.run(\n",
        "      [step, loss, weights], \n",
        "      feed_dict={features:x, target:y}\n",
        "  )\n",
        "  if i%50==0:\n",
        "    saver.save(s, \"logs/3/model.ckpt\", global_step=i)\n",
        "    print(curr_loss)"
      ],
      "execution_count": 35,
      "outputs": [
        {
          "output_type": "stream",
          "text": [
            "0.9635797\n",
            "0.061085388\n",
            "0.040496565\n",
            "0.03674502\n",
            "0.036059238\n",
            "WARNING:tensorflow:From /tensorflow-1.15.2/python3.6/tensorflow_core/python/training/saver.py:963: remove_checkpoint (from tensorflow.python.training.checkpoint_management) is deprecated and will be removed in a future version.\n",
            "Instructions for updating:\n",
            "Use standard file APIs to delete files with this prefix.\n",
            "0.035933442\n"
          ],
          "name": "stdout"
        }
      ]
    },
    {
      "cell_type": "code",
      "metadata": {
        "id": "cVydSpEPppL7",
        "colab_type": "code",
        "colab": {
          "base_uri": "https://localhost:8080/",
          "height": 71
        },
        "outputId": "fe2631f8-a0d8-482e-a5a2-be48ad5b3cc0"
      },
      "source": [
        "# found weights\n",
        "curr_weights.T"
      ],
      "execution_count": 15,
      "outputs": [
        {
          "output_type": "stream",
          "text": [
            "[[0.22669326]\n",
            " [0.07311469]\n",
            " [0.34474435]]\n"
          ],
          "name": "stdout"
        }
      ]
    },
    {
      "cell_type": "code",
      "metadata": {
        "id": "XPaT-6MRrD-j",
        "colab_type": "code",
        "colab": {
          "base_uri": "https://localhost:8080/",
          "height": 71
        },
        "outputId": "d15c5f37-4c35-4b05-af3b-d6152c13b49c"
      },
      "source": [
        "# true weights\n",
        "w.T"
      ],
      "execution_count": 16,
      "outputs": [
        {
          "output_type": "stream",
          "text": [
            "[[0.25578636]\n",
            " [0.06338396]\n",
            " [0.33437311]]\n"
          ],
          "name": "stdout"
        }
      ]
    },
    {
      "cell_type": "code",
      "metadata": {
        "id": "JHNcqQd_rQm6",
        "colab_type": "code",
        "colab": {
          "base_uri": "https://localhost:8080/",
          "height": 107
        },
        "outputId": "936dff37-b6d1-4d10-bf4a-450316ff0e94"
      },
      "source": [
        "saver.last_checkpoints"
      ],
      "execution_count": 36,
      "outputs": [
        {
          "output_type": "execute_result",
          "data": {
            "text/plain": [
              "['logs/3/model.ckpt-50',\n",
              " 'logs/3/model.ckpt-100',\n",
              " 'logs/3/model.ckpt-150',\n",
              " 'logs/3/model.ckpt-200',\n",
              " 'logs/3/model.ckpt-250']"
            ]
          },
          "metadata": {
            "tags": []
          },
          "execution_count": 36
        }
      ]
    },
    {
      "cell_type": "code",
      "metadata": {
        "id": "10SutonttGoL",
        "colab_type": "code",
        "colab": {
          "base_uri": "https://localhost:8080/",
          "height": 35
        },
        "outputId": "2ad26147-d9ac-4a6e-92f1-12c9f6f0d1fd"
      },
      "source": [
        "saver.restore(s, \"logs/3/model.ckpt-150\")"
      ],
      "execution_count": 37,
      "outputs": [
        {
          "output_type": "stream",
          "text": [
            "INFO:tensorflow:Restoring parameters from logs/3/model.ckpt-150\n"
          ],
          "name": "stdout"
        }
      ]
    },
    {
      "cell_type": "markdown",
      "metadata": {
        "id": "pY8lTnqZueoA",
        "colab_type": "text"
      },
      "source": [
        "## Takeaway\n",
        "\n",
        "*   TF has built-in optimizers that do back-propagation automatically.\n",
        "*   TBoard provides tools for visualization:\n",
        "    *   Training process\n",
        "    *   Loss function\n",
        "*   TF allows to checkpoint the graph to restore its state later.\n",
        "\n"
      ]
    }
  ]
}